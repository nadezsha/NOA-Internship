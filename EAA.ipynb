{
 "cells": [
  {
   "cell_type": "code",
   "execution_count": 13,
   "id": "d0486a25",
   "metadata": {},
   "outputs": [
    {
     "name": "stdout",
     "output_type": "stream",
     "text": [
      "            DATETIME   C6H6   NO2  SO2   PM10  PM2.5    O3\n",
      "0      01-01-20 0:00   9.98  57.0  8.0  133.0  112.0   8.0\n",
      "1      01-01-20 1:00  11.15  56.0  8.0  142.0  120.0  10.0\n",
      "2      01-01-20 2:00  11.71  53.0  9.0  197.0  175.0   6.0\n",
      "3      01-01-20 3:00   9.26  46.0  7.0  146.0  123.0   6.0\n",
      "4      01-01-20 4:00   9.68  45.0  8.0  133.0  117.0   5.0\n",
      "...              ...    ...   ...  ...    ...    ...   ...\n",
      "8779  31-12-20 19:00   0.77  32.0  4.0   44.0   12.0  40.0\n",
      "8780  31-12-20 20:00   1.15  52.0  5.0   46.0   16.0  26.0\n",
      "8781  31-12-20 21:00   0.61  36.0  5.0   47.0   21.0  43.0\n",
      "8782  31-12-20 22:00   0.40  52.0  4.0   25.0    6.0  28.0\n",
      "8783  31-12-20 23:00   0.48  41.0  6.0   27.0    8.0  38.0\n",
      "\n",
      "[8784 rows x 7 columns]\n"
     ]
    }
   ],
   "source": [
    "import pandas as pd\n",
    "import numpy as np\n",
    "import datetime \n",
    "\n",
    "data = pd.read_csv(r'C:\\Users\\nadia\\Dropbox\\Internship - Kairaktidi\\data-ypen\\ΠΕΙΡΑΙΑΣ-I-PIR\\PIRPYTHON.csv')\n",
    "\n",
    "print(data)"
   ]
  },
  {
   "cell_type": "code",
   "execution_count": 14,
   "id": "63978b03",
   "metadata": {},
   "outputs": [
    {
     "data": {
      "text/html": [
       "<div>\n",
       "<style scoped>\n",
       "    .dataframe tbody tr th:only-of-type {\n",
       "        vertical-align: middle;\n",
       "    }\n",
       "\n",
       "    .dataframe tbody tr th {\n",
       "        vertical-align: top;\n",
       "    }\n",
       "\n",
       "    .dataframe thead th {\n",
       "        text-align: right;\n",
       "    }\n",
       "</style>\n",
       "<table border=\"1\" class=\"dataframe\">\n",
       "  <thead>\n",
       "    <tr style=\"text-align: right;\">\n",
       "      <th></th>\n",
       "      <th>DATETIME</th>\n",
       "      <th>C6H6</th>\n",
       "      <th>NO2</th>\n",
       "      <th>SO2</th>\n",
       "      <th>PM10</th>\n",
       "      <th>PM2.5</th>\n",
       "      <th>O3</th>\n",
       "    </tr>\n",
       "    <tr>\n",
       "      <th>DATETIME</th>\n",
       "      <th></th>\n",
       "      <th></th>\n",
       "      <th></th>\n",
       "      <th></th>\n",
       "      <th></th>\n",
       "      <th></th>\n",
       "      <th></th>\n",
       "    </tr>\n",
       "  </thead>\n",
       "  <tbody>\n",
       "    <tr>\n",
       "      <th>2020-01-01</th>\n",
       "      <td>24</td>\n",
       "      <td>24</td>\n",
       "      <td>24</td>\n",
       "      <td>24</td>\n",
       "      <td>24</td>\n",
       "      <td>24</td>\n",
       "      <td>24</td>\n",
       "    </tr>\n",
       "    <tr>\n",
       "      <th>2020-01-02</th>\n",
       "      <td>24</td>\n",
       "      <td>24</td>\n",
       "      <td>24</td>\n",
       "      <td>24</td>\n",
       "      <td>24</td>\n",
       "      <td>24</td>\n",
       "      <td>24</td>\n",
       "    </tr>\n",
       "    <tr>\n",
       "      <th>2020-01-03</th>\n",
       "      <td>24</td>\n",
       "      <td>0</td>\n",
       "      <td>24</td>\n",
       "      <td>24</td>\n",
       "      <td>24</td>\n",
       "      <td>11</td>\n",
       "      <td>24</td>\n",
       "    </tr>\n",
       "    <tr>\n",
       "      <th>2020-01-04</th>\n",
       "      <td>24</td>\n",
       "      <td>24</td>\n",
       "      <td>24</td>\n",
       "      <td>24</td>\n",
       "      <td>24</td>\n",
       "      <td>24</td>\n",
       "      <td>24</td>\n",
       "    </tr>\n",
       "    <tr>\n",
       "      <th>2020-01-05</th>\n",
       "      <td>24</td>\n",
       "      <td>0</td>\n",
       "      <td>24</td>\n",
       "      <td>24</td>\n",
       "      <td>24</td>\n",
       "      <td>24</td>\n",
       "      <td>24</td>\n",
       "    </tr>\n",
       "    <tr>\n",
       "      <th>...</th>\n",
       "      <td>...</td>\n",
       "      <td>...</td>\n",
       "      <td>...</td>\n",
       "      <td>...</td>\n",
       "      <td>...</td>\n",
       "      <td>...</td>\n",
       "      <td>...</td>\n",
       "    </tr>\n",
       "    <tr>\n",
       "      <th>2020-12-27</th>\n",
       "      <td>24</td>\n",
       "      <td>24</td>\n",
       "      <td>24</td>\n",
       "      <td>24</td>\n",
       "      <td>24</td>\n",
       "      <td>24</td>\n",
       "      <td>24</td>\n",
       "    </tr>\n",
       "    <tr>\n",
       "      <th>2020-12-28</th>\n",
       "      <td>24</td>\n",
       "      <td>24</td>\n",
       "      <td>24</td>\n",
       "      <td>24</td>\n",
       "      <td>24</td>\n",
       "      <td>24</td>\n",
       "      <td>24</td>\n",
       "    </tr>\n",
       "    <tr>\n",
       "      <th>2020-12-29</th>\n",
       "      <td>24</td>\n",
       "      <td>24</td>\n",
       "      <td>24</td>\n",
       "      <td>24</td>\n",
       "      <td>23</td>\n",
       "      <td>24</td>\n",
       "      <td>24</td>\n",
       "    </tr>\n",
       "    <tr>\n",
       "      <th>2020-12-30</th>\n",
       "      <td>24</td>\n",
       "      <td>24</td>\n",
       "      <td>24</td>\n",
       "      <td>24</td>\n",
       "      <td>24</td>\n",
       "      <td>24</td>\n",
       "      <td>24</td>\n",
       "    </tr>\n",
       "    <tr>\n",
       "      <th>2020-12-31</th>\n",
       "      <td>24</td>\n",
       "      <td>24</td>\n",
       "      <td>24</td>\n",
       "      <td>24</td>\n",
       "      <td>24</td>\n",
       "      <td>24</td>\n",
       "      <td>24</td>\n",
       "    </tr>\n",
       "  </tbody>\n",
       "</table>\n",
       "<p>366 rows × 7 columns</p>\n",
       "</div>"
      ],
      "text/plain": [
       "            DATETIME  C6H6  NO2  SO2  PM10  PM2.5  O3\n",
       "DATETIME                                             \n",
       "2020-01-01        24    24   24   24    24     24  24\n",
       "2020-01-02        24    24   24   24    24     24  24\n",
       "2020-01-03        24     0   24   24    24     11  24\n",
       "2020-01-04        24    24   24   24    24     24  24\n",
       "2020-01-05        24     0   24   24    24     24  24\n",
       "...              ...   ...  ...  ...   ...    ...  ..\n",
       "2020-12-27        24    24   24   24    24     24  24\n",
       "2020-12-28        24    24   24   24    24     24  24\n",
       "2020-12-29        24    24   24   24    23     24  24\n",
       "2020-12-30        24    24   24   24    24     24  24\n",
       "2020-12-31        24    24   24   24    24     24  24\n",
       "\n",
       "[366 rows x 7 columns]"
      ]
     },
     "execution_count": 14,
     "metadata": {},
     "output_type": "execute_result"
    }
   ],
   "source": [
    "data['DATETIME']=pd.to_datetime(data['DATETIME'])\n",
    "data.groupby(by=data['DATETIME'].dt.date).count()"
   ]
  },
  {
   "cell_type": "code",
   "execution_count": 15,
   "id": "ffcdb546",
   "metadata": {},
   "outputs": [
    {
     "name": "stdout",
     "output_type": "stream",
     "text": [
      "                DATETIME   C6H6   NO2  SO2   PM10  PM2.5    O3        date\n",
      "0    2020-01-01 00:00:00   9.98  57.0  8.0  133.0  112.0   8.0  2020-01-01\n",
      "1    2020-01-01 01:00:00  11.15  56.0  8.0  142.0  120.0  10.0  2020-01-01\n",
      "2    2020-01-01 02:00:00  11.71  53.0  9.0  197.0  175.0   6.0  2020-01-01\n",
      "3    2020-01-01 03:00:00   9.26  46.0  7.0  146.0  123.0   6.0  2020-01-01\n",
      "4    2020-01-01 04:00:00   9.68  45.0  8.0  133.0  117.0   5.0  2020-01-01\n",
      "...                  ...    ...   ...  ...    ...    ...   ...         ...\n",
      "8779 2020-12-31 19:00:00   0.77  32.0  4.0   44.0   12.0  40.0  2020-12-31\n",
      "8780 2020-12-31 20:00:00   1.15  52.0  5.0   46.0   16.0  26.0  2020-12-31\n",
      "8781 2020-12-31 21:00:00   0.61  36.0  5.0   47.0   21.0  43.0  2020-12-31\n",
      "8782 2020-12-31 22:00:00   0.40  52.0  4.0   25.0    6.0  28.0  2020-12-31\n",
      "8783 2020-12-31 23:00:00   0.48  41.0  6.0   27.0    8.0  38.0  2020-12-31\n",
      "\n",
      "[8784 rows x 8 columns]\n"
     ]
    }
   ],
   "source": [
    "data['date'] = data['DATETIME'].dt.date\n",
    "print(data)"
   ]
  },
  {
   "cell_type": "markdown",
   "id": "ecb52936",
   "metadata": {},
   "source": [
    "# C6H6"
   ]
  },
  {
   "cell_type": "code",
   "execution_count": 16,
   "id": "b61c395b",
   "metadata": {},
   "outputs": [
    {
     "name": "stdout",
     "output_type": "stream",
     "text": [
      "Οι συνολικές τιμές είναι 8784\n",
      "Οι έγκυρες τιμές είναι 7029\n",
      "Δεν ικανοποιείται ο έλεγχος πληρότητας\n"
     ]
    }
   ],
   "source": [
    "#Μέτρηση έγκυρων τιμών και έλεγχος πληρότητας\n",
    "\n",
    "data.replace('', np.nan).count()\n",
    "c = data['C6H6'].count()\n",
    "print(\"Οι συνολικές τιμές είναι\", data.shape[0] )\n",
    "print(\"Οι έγκυρες τιμές είναι\", c)\n",
    "if c > (0.9*data.shape[0]):\n",
    "    print(\"Ικανοποιείται ο έλεγχος πληρότητας\")\n",
    "else:\n",
    "    print(\"Δεν ικανοποιείται ο έλεγχος πληρότητας\")"
   ]
  },
  {
   "cell_type": "code",
   "execution_count": 17,
   "id": "e371312d",
   "metadata": {},
   "outputs": [
    {
     "name": "stdout",
     "output_type": "stream",
     "text": [
      "Μέση παρατηρούμενη ετήσια τιμή: 2.04 μg/m3\n",
      "Δεν παρατηρείται υπέρβαση του ορίου (5 μg/m3)\n"
     ]
    }
   ],
   "source": [
    "# Έλεγχος οριακής τιμής στο ημερολογιακό έτος (5 μg/m3)\n",
    "\n",
    "print(\"Μέση παρατηρούμενη ετήσια τιμή:\", round(data['C6H6'].mean(), 2), \"μg/m3\")\n",
    "\n",
    "if data['C6H6'].mean() > 5:\n",
    "    print(\"Γίνεται υπέρβαση του ορίου\")\n",
    "else:\n",
    "    print(\"Δεν παρατηρείται υπέρβαση του ορίου (5 μg/m3)\")\n",
    "    "
   ]
  },
  {
   "cell_type": "markdown",
   "id": "74644bfe",
   "metadata": {},
   "source": [
    "# NO2"
   ]
  },
  {
   "cell_type": "code",
   "execution_count": 18,
   "id": "64b2f800",
   "metadata": {},
   "outputs": [
    {
     "name": "stdout",
     "output_type": "stream",
     "text": [
      "Για τις ωριαίες τιμές ικανοποιείται ο έλεγχος πληρότητας των 45 λεπτών\n",
      "Δεν γίνεται υπέρβαση του ορίου στην ωριαία οριακή τιμή (200μg/m3) για πάνω από 18 φορές το έτος\n"
     ]
    }
   ],
   "source": [
    "# Ωριαία οριακή τιμή (200μg/m3 έως 18 φορές τον χρόνο)\n",
    "\n",
    "print(\"Για τις ωριαίες τιμές ικανοποιείται ο έλεγχος πληρότητας των 45 λεπτών\")\n",
    "if data.loc[data.NO2 < 200, 'NO2'].count() > 18 :\n",
    "     print(\"Δεν γίνεται υπέρβαση του ορίου στην ωριαία οριακή τιμή (200μg/m3) για πάνω από 18 φορές το έτος\")\n",
    "else:\n",
    "    print(\"Γίνεται υπέρβαση του ορίου\")"
   ]
  },
  {
   "cell_type": "code",
   "execution_count": 19,
   "id": "5153df4a",
   "metadata": {},
   "outputs": [
    {
     "name": "stdout",
     "output_type": "stream",
     "text": [
      "Οι συνολικές τιμές είναι 8784\n",
      "Οι έγκυρες τιμές είναι 8765\n",
      "Ικανοποιείται ο έλεγχος πληρότητας\n"
     ]
    }
   ],
   "source": [
    "#Μέτρηση έγκυρων τιμών και έλεγχος πληρότητας για την ετήσια οριακή τιμή \n",
    "\n",
    "#print(sum(pd.isnull(data['NO2'])))\n",
    "data.replace('', np.nan).count()\n",
    "s = data['NO2'].count()\n",
    "print(\"Οι συνολικές τιμές είναι\", data.shape[0] )\n",
    "print(\"Οι έγκυρες τιμές είναι\", s)\n",
    "if s > (0.9*data.shape[0]):\n",
    "    print(\"Ικανοποιείται ο έλεγχος πληρότητας\")\n",
    "else:\n",
    "    print(\"Δεν ικανοποιείται ο έλεγχος πληρότητας\")"
   ]
  },
  {
   "cell_type": "code",
   "execution_count": 20,
   "id": "8b493e92",
   "metadata": {},
   "outputs": [
    {
     "name": "stdout",
     "output_type": "stream",
     "text": [
      "Γίνεται υπέρβαση του ορίου, 55.0 μg/m3 με όριο τα 40 μg/m3\n"
     ]
    }
   ],
   "source": [
    "# Οριακή τιμή στο ημερολογ. έτος = 40 μg/m3\n",
    "if data['NO2'].mean() > 40:\n",
    "    print(\"Γίνεται υπέρβαση του ορίου,\", round(data['NO2'].mean(), 1), \"μg/m3 με όριο τα 40 μg/m3\")\n",
    "else:\n",
    "    print(\"Δεν παρατηρείται υπέρβαση του ορίου ( 40 μg/m3)\")"
   ]
  },
  {
   "cell_type": "markdown",
   "id": "c44ee13e",
   "metadata": {},
   "source": [
    "# SO2"
   ]
  },
  {
   "cell_type": "code",
   "execution_count": 21,
   "id": "b8e2b201",
   "metadata": {},
   "outputs": [
    {
     "name": "stdout",
     "output_type": "stream",
     "text": [
      "Για τις ωριαίες τιμές ικανοποιείται ο έλεγχος πληρότητας των 45 λεπτών \n",
      "\n",
      "Δεν γίνεται υπέρβαση του ορίου στην ωριαία οριακή τιμή (350μg/m3) για πάνω από 24 φορές το έτος\n",
      "Οι συνολικές υπερβάσεις ήταν: 0\n"
     ]
    }
   ],
   "source": [
    "# Ωριαία οριακή τιμή (350μg/m3 έως 24 φορές τον χρόνο)\n",
    "\n",
    "print(\"Για τις ωριαίες τιμές ικανοποιείται ο έλεγχος πληρότητας των 45 λεπτών\",\"\\n\")\n",
    "\n",
    "if data.loc[data.SO2 < 350, 'NO2'].count() > 24 :\n",
    "     print(\"Δεν γίνεται υπέρβαση του ορίου στην ωριαία οριακή τιμή (350μg/m3) για πάνω από 24 φορές το έτος\")\n",
    "else:\n",
    "    print(\"Γίνεται υπέρβαση του ορίου\")\n",
    "\n",
    "print(\"Οι συνολικές υπερβάσεις ήταν:\" ,data.loc[data.SO2 > 350, 'NO2'].count())"
   ]
  },
  {
   "cell_type": "code",
   "execution_count": 37,
   "id": "bdb23736",
   "metadata": {},
   "outputs": [
    {
     "name": "stdout",
     "output_type": "stream",
     "text": [
      "Οι συνολικές τιμές είναι 366\n",
      "Οι έγκυρες τιμές είναι 354\n"
     ]
    },
    {
     "data": {
      "text/html": [
       "<div>\n",
       "<style scoped>\n",
       "    .dataframe tbody tr th:only-of-type {\n",
       "        vertical-align: middle;\n",
       "    }\n",
       "\n",
       "    .dataframe tbody tr th {\n",
       "        vertical-align: top;\n",
       "    }\n",
       "\n",
       "    .dataframe thead tr th {\n",
       "        text-align: left;\n",
       "    }\n",
       "\n",
       "    .dataframe thead tr:last-of-type th {\n",
       "        text-align: right;\n",
       "    }\n",
       "</style>\n",
       "<table border=\"1\" class=\"dataframe\">\n",
       "  <thead>\n",
       "    <tr>\n",
       "      <th></th>\n",
       "      <th colspan=\"2\" halign=\"left\">SO2</th>\n",
       "      <th colspan=\"3\" halign=\"left\">PM10</th>\n",
       "    </tr>\n",
       "    <tr>\n",
       "      <th></th>\n",
       "      <th>count</th>\n",
       "      <th>max</th>\n",
       "      <th>count</th>\n",
       "      <th>max</th>\n",
       "      <th>mean</th>\n",
       "    </tr>\n",
       "    <tr>\n",
       "      <th>date</th>\n",
       "      <th></th>\n",
       "      <th></th>\n",
       "      <th></th>\n",
       "      <th></th>\n",
       "      <th></th>\n",
       "    </tr>\n",
       "  </thead>\n",
       "  <tbody>\n",
       "    <tr>\n",
       "      <th>2020-01-01</th>\n",
       "      <td>24</td>\n",
       "      <td>14.0</td>\n",
       "      <td>24</td>\n",
       "      <td>197.0</td>\n",
       "      <td>63.500000</td>\n",
       "    </tr>\n",
       "    <tr>\n",
       "      <th>2020-01-02</th>\n",
       "      <td>24</td>\n",
       "      <td>24.0</td>\n",
       "      <td>24</td>\n",
       "      <td>102.0</td>\n",
       "      <td>32.916667</td>\n",
       "    </tr>\n",
       "    <tr>\n",
       "      <th>2020-01-03</th>\n",
       "      <td>24</td>\n",
       "      <td>20.0</td>\n",
       "      <td>24</td>\n",
       "      <td>54.0</td>\n",
       "      <td>28.583333</td>\n",
       "    </tr>\n",
       "    <tr>\n",
       "      <th>2020-01-04</th>\n",
       "      <td>24</td>\n",
       "      <td>7.0</td>\n",
       "      <td>24</td>\n",
       "      <td>51.0</td>\n",
       "      <td>43.333333</td>\n",
       "    </tr>\n",
       "    <tr>\n",
       "      <th>2020-01-05</th>\n",
       "      <td>24</td>\n",
       "      <td>9.0</td>\n",
       "      <td>24</td>\n",
       "      <td>27.0</td>\n",
       "      <td>17.500000</td>\n",
       "    </tr>\n",
       "    <tr>\n",
       "      <th>...</th>\n",
       "      <td>...</td>\n",
       "      <td>...</td>\n",
       "      <td>...</td>\n",
       "      <td>...</td>\n",
       "      <td>...</td>\n",
       "    </tr>\n",
       "    <tr>\n",
       "      <th>2020-03-11</th>\n",
       "      <td>24</td>\n",
       "      <td>17.0</td>\n",
       "      <td>24</td>\n",
       "      <td>87.0</td>\n",
       "      <td>50.583333</td>\n",
       "    </tr>\n",
       "    <tr>\n",
       "      <th>2020-03-12</th>\n",
       "      <td>24</td>\n",
       "      <td>12.0</td>\n",
       "      <td>24</td>\n",
       "      <td>50.0</td>\n",
       "      <td>28.375000</td>\n",
       "    </tr>\n",
       "    <tr>\n",
       "      <th>2020-03-13</th>\n",
       "      <td>24</td>\n",
       "      <td>13.0</td>\n",
       "      <td>24</td>\n",
       "      <td>29.0</td>\n",
       "      <td>18.208333</td>\n",
       "    </tr>\n",
       "    <tr>\n",
       "      <th>2020-03-14</th>\n",
       "      <td>24</td>\n",
       "      <td>31.0</td>\n",
       "      <td>24</td>\n",
       "      <td>66.0</td>\n",
       "      <td>33.541667</td>\n",
       "    </tr>\n",
       "    <tr>\n",
       "      <th>2020-03-15</th>\n",
       "      <td>0</td>\n",
       "      <td>NaN</td>\n",
       "      <td>24</td>\n",
       "      <td>68.0</td>\n",
       "      <td>34.458333</td>\n",
       "    </tr>\n",
       "  </tbody>\n",
       "</table>\n",
       "<p>75 rows × 5 columns</p>\n",
       "</div>"
      ],
      "text/plain": [
       "             SO2        PM10                  \n",
       "           count   max count    max       mean\n",
       "date                                          \n",
       "2020-01-01    24  14.0    24  197.0  63.500000\n",
       "2020-01-02    24  24.0    24  102.0  32.916667\n",
       "2020-01-03    24  20.0    24   54.0  28.583333\n",
       "2020-01-04    24   7.0    24   51.0  43.333333\n",
       "2020-01-05    24   9.0    24   27.0  17.500000\n",
       "...          ...   ...   ...    ...        ...\n",
       "2020-03-11    24  17.0    24   87.0  50.583333\n",
       "2020-03-12    24  12.0    24   50.0  28.375000\n",
       "2020-03-13    24  13.0    24   29.0  18.208333\n",
       "2020-03-14    24  31.0    24   66.0  33.541667\n",
       "2020-03-15     0   NaN    24   68.0  34.458333\n",
       "\n",
       "[75 rows x 5 columns]"
      ]
     },
     "execution_count": 37,
     "metadata": {},
     "output_type": "execute_result"
    }
   ],
   "source": [
    "#Μέτρηση έγκυρων τιμών και έλεγχος πληρότητας για την ημερήσια οριακή τιμή\n",
    "\n",
    "grouped_single = data.groupby('date').agg({'SO2': ['count','max'], 'PM10': ['count','max','mean']})\n",
    "grouped_single.replace('', np.nan).count()\n",
    "\n",
    "b = grouped_single['SO2']['count'].le(18) #άκυρες και μέρες με λιγότερο από 18 ώρες μαζί\n",
    "\n",
    "print(\"Οι συνολικές τιμές είναι\", grouped_single.shape[0] )\n",
    "print(\"Οι έγκυρες τιμές είναι\", len(grouped_single['SO2']) -b.sum())\n",
    "    \n",
    "grouped_single.head(75)"
   ]
  },
  {
   "cell_type": "code",
   "execution_count": 23,
   "id": "69acd4b6",
   "metadata": {},
   "outputs": [
    {
     "name": "stdout",
     "output_type": "stream",
     "text": [
      "Δεν παρατηρείται υπέρβαση του ορίου\n",
      "Συνολικές υπερβάσεις που παρατηρήθηκαν: 0\n"
     ]
    }
   ],
   "source": [
    "# Ημερήσια οριακή τιμή (125μg/m3 έως 3 φορές τον χρόνο)\n",
    "\n",
    "m = grouped_single['SO2']['max'].gt(125)\n",
    "if m.sum()>3:\n",
    "    print(\"Παρατηρείται υπέρβαση του ορίου\")\n",
    "else:\n",
    "    print(\"Δεν παρατηρείται υπέρβαση του ορίου\")\n",
    "    \n",
    "print(\"Συνολικές υπερβάσεις που παρατηρήθηκαν:\", m.sum())"
   ]
  },
  {
   "cell_type": "markdown",
   "id": "81199ed1",
   "metadata": {},
   "source": [
    "# PM10"
   ]
  },
  {
   "cell_type": "code",
   "execution_count": 35,
   "id": "f0e42069",
   "metadata": {},
   "outputs": [
    {
     "name": "stdout",
     "output_type": "stream",
     "text": [
      "Οι συνολικές τιμές είναι 366\n",
      "Οι έγκυρες τιμές είναι 321\n"
     ]
    },
    {
     "data": {
      "text/html": [
       "<div>\n",
       "<style scoped>\n",
       "    .dataframe tbody tr th:only-of-type {\n",
       "        vertical-align: middle;\n",
       "    }\n",
       "\n",
       "    .dataframe tbody tr th {\n",
       "        vertical-align: top;\n",
       "    }\n",
       "\n",
       "    .dataframe thead tr th {\n",
       "        text-align: left;\n",
       "    }\n",
       "\n",
       "    .dataframe thead tr:last-of-type th {\n",
       "        text-align: right;\n",
       "    }\n",
       "</style>\n",
       "<table border=\"1\" class=\"dataframe\">\n",
       "  <thead>\n",
       "    <tr>\n",
       "      <th></th>\n",
       "      <th colspan=\"2\" halign=\"left\">PM10</th>\n",
       "    </tr>\n",
       "    <tr>\n",
       "      <th></th>\n",
       "      <th>count</th>\n",
       "      <th>max</th>\n",
       "    </tr>\n",
       "    <tr>\n",
       "      <th>date</th>\n",
       "      <th></th>\n",
       "      <th></th>\n",
       "    </tr>\n",
       "  </thead>\n",
       "  <tbody>\n",
       "    <tr>\n",
       "      <th>2020-01-01</th>\n",
       "      <td>24</td>\n",
       "      <td>197.0</td>\n",
       "    </tr>\n",
       "    <tr>\n",
       "      <th>2020-01-02</th>\n",
       "      <td>24</td>\n",
       "      <td>102.0</td>\n",
       "    </tr>\n",
       "    <tr>\n",
       "      <th>2020-01-03</th>\n",
       "      <td>24</td>\n",
       "      <td>54.0</td>\n",
       "    </tr>\n",
       "    <tr>\n",
       "      <th>2020-01-04</th>\n",
       "      <td>24</td>\n",
       "      <td>51.0</td>\n",
       "    </tr>\n",
       "    <tr>\n",
       "      <th>2020-01-05</th>\n",
       "      <td>24</td>\n",
       "      <td>27.0</td>\n",
       "    </tr>\n",
       "    <tr>\n",
       "      <th>...</th>\n",
       "      <td>...</td>\n",
       "      <td>...</td>\n",
       "    </tr>\n",
       "    <tr>\n",
       "      <th>2020-03-11</th>\n",
       "      <td>24</td>\n",
       "      <td>87.0</td>\n",
       "    </tr>\n",
       "    <tr>\n",
       "      <th>2020-03-12</th>\n",
       "      <td>24</td>\n",
       "      <td>50.0</td>\n",
       "    </tr>\n",
       "    <tr>\n",
       "      <th>2020-03-13</th>\n",
       "      <td>24</td>\n",
       "      <td>29.0</td>\n",
       "    </tr>\n",
       "    <tr>\n",
       "      <th>2020-03-14</th>\n",
       "      <td>24</td>\n",
       "      <td>66.0</td>\n",
       "    </tr>\n",
       "    <tr>\n",
       "      <th>2020-03-15</th>\n",
       "      <td>24</td>\n",
       "      <td>68.0</td>\n",
       "    </tr>\n",
       "  </tbody>\n",
       "</table>\n",
       "<p>75 rows × 2 columns</p>\n",
       "</div>"
      ],
      "text/plain": [
       "            PM10       \n",
       "           count    max\n",
       "date                   \n",
       "2020-01-01    24  197.0\n",
       "2020-01-02    24  102.0\n",
       "2020-01-03    24   54.0\n",
       "2020-01-04    24   51.0\n",
       "2020-01-05    24   27.0\n",
       "...          ...    ...\n",
       "2020-03-11    24   87.0\n",
       "2020-03-12    24   50.0\n",
       "2020-03-13    24   29.0\n",
       "2020-03-14    24   66.0\n",
       "2020-03-15    24   68.0\n",
       "\n",
       "[75 rows x 2 columns]"
      ]
     },
     "execution_count": 35,
     "metadata": {},
     "output_type": "execute_result"
    }
   ],
   "source": [
    "p = grouped_single['PM10']['count'].le(18)\n",
    "\n",
    "print(\"Οι συνολικές τιμές είναι\", grouped_single.shape[0] )\n",
    "print(\"Οι έγκυρες τιμές είναι\", len(grouped_single['PM10']) - p.sum())\n",
    "\n",
    "grouped.head(75)"
   ]
  },
  {
   "cell_type": "code",
   "execution_count": 38,
   "id": "08dc8cb9",
   "metadata": {},
   "outputs": [
    {
     "name": "stdout",
     "output_type": "stream",
     "text": [
      "Δεν παρατηρείται υπέρβαση του ορίου\n",
      "Συνολικές υπερβάσεις που παρατηρήθηκαν: 27\n"
     ]
    }
   ],
   "source": [
    "# Οριακή τιμή ημέρας = 50μg/m3 έως 35 φορές το έτος\n",
    "\n",
    "pm2 = grouped_single['PM10']['mean'].gt(50) #(εδώ θέλω την μέση τιμή της μέρας ή την μέγιστη;)\n",
    "if pm2.sum() > 35:\n",
    "    print(\"Παρατηρείται υπέρβαση του ορίου\")\n",
    "else:\n",
    "    print(\"Δεν παρατηρείται υπέρβαση του ορίου\")\n",
    "    \n",
    "print(\"Συνολικές υπερβάσεις που παρατηρήθηκαν:\", pm2.sum())"
   ]
  },
  {
   "cell_type": "code",
   "execution_count": null,
   "id": "6615b898",
   "metadata": {},
   "outputs": [],
   "source": []
  }
 ],
 "metadata": {
  "kernelspec": {
   "display_name": "Python 3",
   "language": "python",
   "name": "python3"
  },
  "language_info": {
   "codemirror_mode": {
    "name": "ipython",
    "version": 3
   },
   "file_extension": ".py",
   "mimetype": "text/x-python",
   "name": "python",
   "nbconvert_exporter": "python",
   "pygments_lexer": "ipython3",
   "version": "3.8.8"
  }
 },
 "nbformat": 4,
 "nbformat_minor": 5
}
