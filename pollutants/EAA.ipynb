{
 "cells": [
  {
   "cell_type": "code",
   "execution_count": 1,
   "id": "d0486a25",
   "metadata": {},
   "outputs": [
    {
     "name": "stdout",
     "output_type": "stream",
     "text": [
      "check.csv check\n",
      "PIRPYTHON.csv PIRPYTHON\n",
      "DATASET\n",
      "               DATETIME   C6H6   NO2   SO2   PM10  PM2.5    O3   CO\n",
      "0   2020-01-01 00:00:00   9.98  57.0   8.0  133.0  112.0   8.0  NaN\n",
      "1   2020-01-01 01:00:00  11.15  56.0   8.0  142.0  120.0  10.0  NaN\n",
      "2   2020-01-01 02:00:00  11.71  53.0   9.0  197.0  175.0   6.0  NaN\n",
      "3   2020-01-01 03:00:00   9.26  46.0   7.0  146.0  123.0   6.0  NaN\n",
      "4   2020-01-01 04:00:00   9.68  45.0   8.0  133.0  117.0   5.0  NaN\n",
      "..                  ...    ...   ...   ...    ...    ...   ...  ...\n",
      "346 2020-01-15 10:00:00    NaN  52.0  16.0   34.0   21.0   NaN  2.0\n",
      "347 2020-01-15 11:00:00    NaN  49.0  13.0   33.0   22.0   NaN  0.1\n",
      "348 2020-01-15 12:00:00    NaN  47.0  12.0   33.0   23.0   NaN  0.1\n",
      "349 2020-01-15 13:00:00   2.09  40.0  12.0   30.0   17.0  14.0  0.1\n",
      "350 2020-01-15 14:00:00   2.03  37.0  16.0   30.0   16.0  20.0  0.1\n",
      "\n",
      "[351 rows x 8 columns] \n",
      "\n"
     ]
    }
   ],
   "source": [
    "from re import L\n",
    "import pandas as pd\n",
    "import numpy as np\n",
    "import datetime \n",
    "import os\n",
    "import glob\n",
    "\n",
    "path = 'C:/Users/nadia/OneDrive/Desktop/pirpython'\n",
    "extension = 'csv'\n",
    "os.chdir(path)\n",
    "files_lst = glob.glob('*.{}'.format(extension))\n",
    "\n",
    "for fl in files_lst:\n",
    "    if fl[-9:] != 'utput.csv':\n",
    "        namee = str(fl[:-4])\n",
    "        print(fl, namee)\n",
    "        lines_of_new_file = []\n",
    "        data = pd.read_csv(fl)\n",
    "        data['DATETIME']=pd.to_datetime(data['DATETIME'])\n",
    "\n",
    "print(\"DATASET\")\n",
    "print(data.head(351), '\\n')"
   ]
  },
  {
   "cell_type": "code",
   "execution_count": 47,
   "id": "63978b03",
   "metadata": {
    "scrolled": false
   },
   "outputs": [],
   "source": [
    "# adding columns for later\n",
    "\n",
    "data['date'] = data['DATETIME'].dt.date\n",
    "\n",
    "data['O3rcount'] = ''\n",
    "data['COrcount'] = ''\n",
    "data['O3roll'] = ''\n",
    "data['COroll'] = ''\n",
    "\n",
    "for tc in range(8):\n",
    "    data.loc[tc,'O3rcount'] = float('NaN')\n",
    "    data.loc[tc,'COrcount'] = float('NaN')\n",
    "    data.loc[tc,'O3roll'] = float('NaN')\n",
    "    data.loc[tc,'COroll'] = float('NaN')\n",
    "        \n",
    "\n",
    "for ln in range (7,len(data)):\n",
    "\n",
    "    lst_t_o3 = []\n",
    "    lst_t_co = []\n",
    "    lst_r_o3 = []\n",
    "    lst_r_co = []\n",
    "\n",
    "    for ch in range(8):\n",
    "        if str(data['O3'].loc[ln-ch]) != 'nan' and str(data['O3'].loc[ln-ch]) != '':\n",
    "            lst_t_o3.append(data['O3'].loc[ln-ch])\n",
    "            lst_r_o3.append(data['O3'].loc[ln-ch])\n",
    "        if str(data['CO'].loc[ln-ch]) != 'nan' and str(data['CO'].loc[ln-ch]) != '':\n",
    "            lst_t_co.append(data['CO'].loc[ln-ch])\n",
    "            lst_r_co.append(data['CO'].loc[ln-ch])\n",
    "             \n",
    "    data.loc[ln,'O3rcount'] =float(len(lst_t_o3))\n",
    "    data.loc[ln,'COrcount'] =float(len(lst_t_co))\n",
    "\n",
    "    if len(lst_r_o3)!= 0:\n",
    "        data.loc[ln,'O3roll'] = sum(lst_r_o3)/float(len(lst_r_o3))\n",
    "    else:\n",
    "        data.loc[ln,'O3roll'] = 0\n",
    "\n",
    "    if len(lst_r_co)!= 0:    \n",
    "        data.loc[ln,'COroll'] = sum(lst_r_co)/float(len(lst_r_co))\n",
    "    else:\n",
    "        data.loc[ln,'COroll'] = 0\n",
    "        \n",
    "all_indx_rm = []\n",
    "for i in data['O3rcount']:\n",
    "    if str(i) != 'nan' and str(i) != '':\n",
    "        if int(i) < 6:\n",
    "            indxes = data.index[data['O3rcount'] == i]\n",
    "            for indx in indxes:\n",
    "                if indx not in all_indx_rm:\n",
    "                    all_indx_rm.append(indx)\n",
    "for idx in all_indx_rm:\n",
    "    data.loc[idx,'O3']= float('NaN')\n",
    "\n",
    "\n",
    "all_indx_rm2 = []\n",
    "for i in data['COrcount']:\n",
    "    if str(i) != 'nan' and str(i) != '':\n",
    "        if int(i) < 6:\n",
    "            indxes2 = data.index[data['COrcount'] == i]\n",
    "            for indx2 in indxes2:\n",
    "                if indx2 not in all_indx_rm2:\n",
    "                    all_indx_rm2.append(indx2)\n",
    "for idx2 in all_indx_rm2:\n",
    "    data.loc[idx2,'CO']= float('NaN')\n",
    "\n",
    "data.to_csv('check.csv')\n",
    "\n",
    "# print(data.head(350),'\\n')"
   ]
  },
  {
   "cell_type": "code",
   "execution_count": 48,
   "id": "c76b17fa",
   "metadata": {
    "scrolled": false
   },
   "outputs": [
    {
     "data": {
      "text/html": [
       "<div>\n",
       "<style scoped>\n",
       "    .dataframe tbody tr th:only-of-type {\n",
       "        vertical-align: middle;\n",
       "    }\n",
       "\n",
       "    .dataframe tbody tr th {\n",
       "        vertical-align: top;\n",
       "    }\n",
       "\n",
       "    .dataframe thead tr th {\n",
       "        text-align: left;\n",
       "    }\n",
       "\n",
       "    .dataframe thead tr:last-of-type th {\n",
       "        text-align: right;\n",
       "    }\n",
       "</style>\n",
       "<table border=\"1\" class=\"dataframe\">\n",
       "  <thead>\n",
       "    <tr>\n",
       "      <th></th>\n",
       "      <th colspan=\"2\" halign=\"left\">SO2</th>\n",
       "      <th colspan=\"2\" halign=\"left\">PM10</th>\n",
       "      <th colspan=\"2\" halign=\"left\">PM2.5</th>\n",
       "      <th colspan=\"2\" halign=\"left\">O3roll</th>\n",
       "      <th colspan=\"2\" halign=\"left\">COroll</th>\n",
       "    </tr>\n",
       "    <tr>\n",
       "      <th></th>\n",
       "      <th>count</th>\n",
       "      <th>mean</th>\n",
       "      <th>count</th>\n",
       "      <th>mean</th>\n",
       "      <th>count</th>\n",
       "      <th>mean</th>\n",
       "      <th>count</th>\n",
       "      <th>max</th>\n",
       "      <th>count</th>\n",
       "      <th>max</th>\n",
       "    </tr>\n",
       "    <tr>\n",
       "      <th>date</th>\n",
       "      <th></th>\n",
       "      <th></th>\n",
       "      <th></th>\n",
       "      <th></th>\n",
       "      <th></th>\n",
       "      <th></th>\n",
       "      <th></th>\n",
       "      <th></th>\n",
       "      <th></th>\n",
       "      <th></th>\n",
       "    </tr>\n",
       "  </thead>\n",
       "  <tbody>\n",
       "    <tr>\n",
       "      <th>2020-01-01</th>\n",
       "      <td>24</td>\n",
       "      <td>7.750000</td>\n",
       "      <td>24</td>\n",
       "      <td>63.500000</td>\n",
       "      <td>24</td>\n",
       "      <td>49.375000</td>\n",
       "      <td>17</td>\n",
       "      <td>29.125</td>\n",
       "      <td>17</td>\n",
       "      <td>0.0000</td>\n",
       "    </tr>\n",
       "    <tr>\n",
       "      <th>2020-01-02</th>\n",
       "      <td>24</td>\n",
       "      <td>13.125000</td>\n",
       "      <td>24</td>\n",
       "      <td>32.916667</td>\n",
       "      <td>24</td>\n",
       "      <td>15.416667</td>\n",
       "      <td>24</td>\n",
       "      <td>73.625</td>\n",
       "      <td>24</td>\n",
       "      <td>2.6500</td>\n",
       "    </tr>\n",
       "    <tr>\n",
       "      <th>2020-01-03</th>\n",
       "      <td>24</td>\n",
       "      <td>13.708333</td>\n",
       "      <td>24</td>\n",
       "      <td>28.583333</td>\n",
       "      <td>11</td>\n",
       "      <td>23.545455</td>\n",
       "      <td>24</td>\n",
       "      <td>74.875</td>\n",
       "      <td>24</td>\n",
       "      <td>1.3500</td>\n",
       "    </tr>\n",
       "    <tr>\n",
       "      <th>2020-01-04</th>\n",
       "      <td>24</td>\n",
       "      <td>5.166667</td>\n",
       "      <td>24</td>\n",
       "      <td>43.333333</td>\n",
       "      <td>24</td>\n",
       "      <td>20.500000</td>\n",
       "      <td>24</td>\n",
       "      <td>84.500</td>\n",
       "      <td>24</td>\n",
       "      <td>0.4000</td>\n",
       "    </tr>\n",
       "    <tr>\n",
       "      <th>2020-01-05</th>\n",
       "      <td>24</td>\n",
       "      <td>6.708333</td>\n",
       "      <td>24</td>\n",
       "      <td>17.500000</td>\n",
       "      <td>24</td>\n",
       "      <td>8.250000</td>\n",
       "      <td>24</td>\n",
       "      <td>81.375</td>\n",
       "      <td>24</td>\n",
       "      <td>0.4625</td>\n",
       "    </tr>\n",
       "    <tr>\n",
       "      <th>...</th>\n",
       "      <td>...</td>\n",
       "      <td>...</td>\n",
       "      <td>...</td>\n",
       "      <td>...</td>\n",
       "      <td>...</td>\n",
       "      <td>...</td>\n",
       "      <td>...</td>\n",
       "      <td>...</td>\n",
       "      <td>...</td>\n",
       "      <td>...</td>\n",
       "    </tr>\n",
       "    <tr>\n",
       "      <th>2020-02-14</th>\n",
       "      <td>24</td>\n",
       "      <td>11.333333</td>\n",
       "      <td>24</td>\n",
       "      <td>37.583333</td>\n",
       "      <td>24</td>\n",
       "      <td>19.375000</td>\n",
       "      <td>24</td>\n",
       "      <td>56.250</td>\n",
       "      <td>24</td>\n",
       "      <td>1.9375</td>\n",
       "    </tr>\n",
       "    <tr>\n",
       "      <th>2020-02-15</th>\n",
       "      <td>24</td>\n",
       "      <td>10.083333</td>\n",
       "      <td>24</td>\n",
       "      <td>22.250000</td>\n",
       "      <td>24</td>\n",
       "      <td>10.500000</td>\n",
       "      <td>24</td>\n",
       "      <td>56.125</td>\n",
       "      <td>24</td>\n",
       "      <td>0.3875</td>\n",
       "    </tr>\n",
       "    <tr>\n",
       "      <th>2020-02-16</th>\n",
       "      <td>24</td>\n",
       "      <td>10.333333</td>\n",
       "      <td>24</td>\n",
       "      <td>22.541667</td>\n",
       "      <td>24</td>\n",
       "      <td>11.416667</td>\n",
       "      <td>24</td>\n",
       "      <td>68.625</td>\n",
       "      <td>24</td>\n",
       "      <td>0.4000</td>\n",
       "    </tr>\n",
       "    <tr>\n",
       "      <th>2020-02-17</th>\n",
       "      <td>24</td>\n",
       "      <td>12.208333</td>\n",
       "      <td>24</td>\n",
       "      <td>23.916667</td>\n",
       "      <td>24</td>\n",
       "      <td>13.125000</td>\n",
       "      <td>24</td>\n",
       "      <td>57.875</td>\n",
       "      <td>24</td>\n",
       "      <td>1.4500</td>\n",
       "    </tr>\n",
       "    <tr>\n",
       "      <th>2020-02-18</th>\n",
       "      <td>24</td>\n",
       "      <td>17.166667</td>\n",
       "      <td>24</td>\n",
       "      <td>38.291667</td>\n",
       "      <td>24</td>\n",
       "      <td>24.041667</td>\n",
       "      <td>24</td>\n",
       "      <td>68.250</td>\n",
       "      <td>24</td>\n",
       "      <td>2.7875</td>\n",
       "    </tr>\n",
       "  </tbody>\n",
       "</table>\n",
       "<p>49 rows × 10 columns</p>\n",
       "</div>"
      ],
      "text/plain": [
       "             SO2             PM10            PM2.5            O3roll          \\\n",
       "           count       mean count       mean count       mean  count     max   \n",
       "date                                                                           \n",
       "2020-01-01    24   7.750000    24  63.500000    24  49.375000     17  29.125   \n",
       "2020-01-02    24  13.125000    24  32.916667    24  15.416667     24  73.625   \n",
       "2020-01-03    24  13.708333    24  28.583333    11  23.545455     24  74.875   \n",
       "2020-01-04    24   5.166667    24  43.333333    24  20.500000     24  84.500   \n",
       "2020-01-05    24   6.708333    24  17.500000    24   8.250000     24  81.375   \n",
       "...          ...        ...   ...        ...   ...        ...    ...     ...   \n",
       "2020-02-14    24  11.333333    24  37.583333    24  19.375000     24  56.250   \n",
       "2020-02-15    24  10.083333    24  22.250000    24  10.500000     24  56.125   \n",
       "2020-02-16    24  10.333333    24  22.541667    24  11.416667     24  68.625   \n",
       "2020-02-17    24  12.208333    24  23.916667    24  13.125000     24  57.875   \n",
       "2020-02-18    24  17.166667    24  38.291667    24  24.041667     24  68.250   \n",
       "\n",
       "           COroll          \n",
       "            count     max  \n",
       "date                       \n",
       "2020-01-01     17  0.0000  \n",
       "2020-01-02     24  2.6500  \n",
       "2020-01-03     24  1.3500  \n",
       "2020-01-04     24  0.4000  \n",
       "2020-01-05     24  0.4625  \n",
       "...           ...     ...  \n",
       "2020-02-14     24  1.9375  \n",
       "2020-02-15     24  0.3875  \n",
       "2020-02-16     24  0.4000  \n",
       "2020-02-17     24  1.4500  \n",
       "2020-02-18     24  2.7875  \n",
       "\n",
       "[49 rows x 10 columns]"
      ]
     },
     "execution_count": 48,
     "metadata": {},
     "output_type": "execute_result"
    }
   ],
   "source": [
    "#second dataframe for calculations\n",
    "\n",
    "grouped_single = data.groupby('date').agg({'SO2': ['count','mean'], 'PM10': ['count','mean'], 'PM2.5': ['count','mean'], 'O3roll': ['count','max'] , 'COroll': ['count','max']})\n",
    "grouped_single.replace('', np.nan).count()\n",
    "grouped_single.head(49)"
   ]
  },
  {
   "cell_type": "markdown",
   "id": "ecb52936",
   "metadata": {},
   "source": [
    "# C6H6"
   ]
  },
  {
   "cell_type": "code",
   "execution_count": 6,
   "id": "9500759c",
   "metadata": {},
   "outputs": [],
   "source": [
    "lines_of_new_file.append(\"ΒΕΝΖΟΛΙΟ\")\n",
    "lines_of_new_file.append(\" \")"
   ]
  },
  {
   "cell_type": "code",
   "execution_count": 7,
   "id": "b61c395b",
   "metadata": {},
   "outputs": [],
   "source": [
    "#Μέτρηση έγκυρων τιμών και έλεγχος πληρότητας\n",
    "\n",
    "data.replace('', np.nan).count()\n",
    "c = data['C6H6'].count()\n",
    "\n",
    "lines_of_new_file.append(f\"Οι συνολικές ωριαίες τιμές είναι: {data.shape[0]} \")\n",
    "lines_of_new_file.append(f\"Οι έγκυρες ωριαίες τιμές είναι: {c}\")\n",
    "\n",
    "if c > (0.9*data.shape[0]):\n",
    "    lines_of_new_file.append(\"Ικανοποιείται ο έλεγχος πληρότητας (90% των ωριαίων τιμών)\")\n",
    "else:\n",
    "    lines_of_new_file.append(\"Δεν ικανοποιείται ο έλεγχος πληρότητας(90% των ωριαίων τιμών)\")"
   ]
  },
  {
   "cell_type": "code",
   "execution_count": 8,
   "id": "e371312d",
   "metadata": {},
   "outputs": [],
   "source": [
    "# Έλεγχος οριακής τιμής στο ημερολογιακό έτος (5 μg/m3)\n",
    "\n",
    "rdch6 = round(data['C6H6'].mean(), 2)\n",
    "lines_of_new_file.append(f\"Μέση παρατηρούμενη ετήσια τιμή: {rdch6} μg/m3 \")\n",
    "\n",
    "if data['C6H6'].mean() > 5:\n",
    "    lines_of_new_file.append(\"Γίνεται υπέρβαση του ορίου (5 μg/m3)\")\n",
    "else:\n",
    "    lines_of_new_file.append(\"Δεν παρατηρείται υπέρβαση του ορίου (5 μg/m3)\")"
   ]
  },
  {
   "cell_type": "markdown",
   "id": "74644bfe",
   "metadata": {},
   "source": [
    "# NO2"
   ]
  },
  {
   "cell_type": "code",
   "execution_count": 9,
   "id": "c43636d4",
   "metadata": {},
   "outputs": [],
   "source": [
    "lines_of_new_file.append(\" \")\n",
    "lines_of_new_file.append(\"NO2\")\n",
    "lines_of_new_file.append(\" \")"
   ]
  },
  {
   "cell_type": "code",
   "execution_count": 10,
   "id": "5153df4a",
   "metadata": {},
   "outputs": [],
   "source": [
    "#Μέτρηση έγκυρων τιμών και έλεγχος πληρότητας (ωριαίο)\n",
    "\n",
    "dno2 = data['NO2'].count()\n",
    "lines_of_new_file.append(f\"Οι συνολικές τιμές είναι {data.shape[0]}\")\n",
    "lines_of_new_file.append(f\"Οι έγκυρες τιμές είναι {dno2}\")\n",
    "\n",
    "if data['NO2'].count() > (0.9*data.shape[0]):\n",
    "    lines_of_new_file.append(\"Ικανοποιείται ο έλεγχος πληρότητας (90% των ωριαίων τιμών)\")\n",
    "else:\n",
    "    lines_of_new_file.append(\"Δεν ικανοποιείται ο έλεγχος πληρότητας (90% των ωριαίων τιμών)\")"
   ]
  },
  {
   "cell_type": "code",
   "execution_count": 11,
   "id": "64b2f800",
   "metadata": {},
   "outputs": [],
   "source": [
    "# Ωριαία οριακή τιμή (200μg/m3 έως 18 φορές τον χρόνο)\n",
    "\n",
    "if data.loc[data.NO2 > 200, 'NO2'].count() > 18 :\n",
    "    lines_of_new_file.append(\"Γίνεται υπέρβαση του ορίου (200μg/m3 έως 18 φορές τον χρόνο)\") \n",
    "else:\n",
    "    dnoo22loc = data.loc[data.NO2 > 200, 'NO2'].count()\n",
    "    lines_of_new_file.append(f\"Δεν γίνεται υπέρβαση του ορίου στην ωριαία οριακή τιμή (200μg/m3) για πάνω από 18 φορές το έτος. Aριθμός υπερβάσεων: {dnoo22loc}\")"
   ]
  },
  {
   "cell_type": "code",
   "execution_count": 12,
   "id": "8b493e92",
   "metadata": {},
   "outputs": [],
   "source": [
    "# Οριακή τιμή στο ημερολογ. έτος = 40 μg/m3\n",
    "\n",
    "if data['NO2'].mean() > 40:\n",
    "    dno2mean = round(data['NO2'].mean(), 1)\n",
    "    lines_of_new_file.append(f\"Γίνεται υπέρβαση του ορίου (40 μg/m3): {dno2mean} μg/m3\")\n",
    "else:\n",
    "    lines_of_new_file.append(\"Δεν παρατηρείται υπέρβαση του ορίου (40 μg/m3)\")"
   ]
  },
  {
   "cell_type": "markdown",
   "id": "c44ee13e",
   "metadata": {},
   "source": [
    "# SO2"
   ]
  },
  {
   "cell_type": "code",
   "execution_count": 13,
   "id": "46365276",
   "metadata": {},
   "outputs": [],
   "source": [
    "lines_of_new_file.append(\" \")\n",
    "lines_of_new_file.append(\"SO2\")"
   ]
  },
  {
   "cell_type": "code",
   "execution_count": 14,
   "id": "d9e1d51d",
   "metadata": {},
   "outputs": [],
   "source": [
    "#Μέτρηση έγκυρων τιμών και έλεγχος πληρότητας (ωριαίο)\n",
    "\n",
    "so2c = data['SO2'].count()\n",
    "lines_of_new_file.append(f\"Οι συνολικές ωριαίες τιμές είναι {data.shape[0]}\")\n",
    "lines_of_new_file.append(f\"Οι έγκυρες ωριαίες τιμές είναι {so2c}\")\n",
    "\n",
    "if data['SO2'].count() > (0.9*data.shape[0]):\n",
    "    lines_of_new_file.append(\"Ικανοποιείται ο έλεγχος πληρότητας (90% των ωριαίων τιμών)\")\n",
    "else:\n",
    "    lines_of_new_file.append(\"Δεν ικανοποιείται ο έλεγχος πληρότητας (90% των ωριαίων τιμών)\")"
   ]
  },
  {
   "cell_type": "code",
   "execution_count": 15,
   "id": "b8e2b201",
   "metadata": {},
   "outputs": [],
   "source": [
    "# Ωριαία οριακή τιμή (350μg/m3 έως 24 φορές τον χρόνο)\n",
    "\n",
    "if data.loc[data.SO2 > 350, 'SO2'].count() > 24 :\n",
    "    lines_of_new_file.append(\"Γίνεται υπέρβαση του ορίου (350μg/m3 έως 24 φορές τον χρόνο)\") \n",
    "else:\n",
    "    lines_of_new_file.append(\"Δεν γίνεται υπέρβαση του ορίου στην ωριαία οριακή τιμή (350μg/m3) για πάνω από 24 φορές το έτος\")\n",
    "\n",
    "countso2 = data.loc[data.SO2 > 350, 'SO2'].count()\n",
    "lines_of_new_file.append(f\"Οι συνολικές υπερβάσεις ήταν: {countso2}\")\n",
    "lines_of_new_file.append(\" \")"
   ]
  },
  {
   "cell_type": "code",
   "execution_count": 16,
   "id": "bdb23736",
   "metadata": {},
   "outputs": [],
   "source": [
    "#Μέτρηση έγκυρων τιμών και έλεγχος πληρότητας για την ημερήσια οριακή τιμή (ημερήσιο)\n",
    "\n",
    "groups_so2 = len(grouped_single['SO2']) - grouped_single['SO2']['count'].le(18).sum()\n",
    "lines_of_new_file.append(f\"Οι συνολικές ημερήσιες τιμές είναι {grouped_single.shape[0]}\")\n",
    "lines_of_new_file.append(f\"Οι έγκυρες ημερήσιες τιμές είναι {groups_so2}\")\n",
    "\n",
    "if (len(grouped_single['SO2']) - grouped_single['SO2']['count'].le(18).sum()) > (0.9*data.shape[0]):\n",
    "    lines_of_new_file.append(\"Ικανοποιείται ο έλεγχος πληρότητας\")\n",
    "else:\n",
    "    lines_of_new_file.append(\"Δεν ικανοποιείται ο έλεγχος πληρότητας\")"
   ]
  },
  {
   "cell_type": "code",
   "execution_count": 17,
   "id": "69acd4b6",
   "metadata": {},
   "outputs": [],
   "source": [
    "# Ημερήσια οριακή τιμή (125μg/m3 έως 3 φορές τον χρόνο)\n",
    "\n",
    "if grouped_single['SO2']['mean'].gt(125).sum() > 3:\n",
    "    lines_of_new_file.append(\"Παρατηρείται υπέρβαση του ορίου (125μg/m3 έως 3 φορές τον χρόνο)\")\n",
    "else:\n",
    "    lines_of_new_file.append(\"Δεν παρατηρείται υπέρβαση του ορίου (125μg/m3 έως 3 φορές τον χρόνο)\")\n",
    "\n",
    "group_singl_mean = grouped_single['SO2']['mean'].gt(125).sum()\n",
    "lines_of_new_file.append(f\"Συνολικές υπερβάσεις που παρατηρήθηκαν: {group_singl_mean}\")\n",
    "lines_of_new_file.append(\" \")"
   ]
  },
  {
   "cell_type": "markdown",
   "id": "81199ed1",
   "metadata": {},
   "source": [
    "# PM10"
   ]
  },
  {
   "cell_type": "code",
   "execution_count": 18,
   "id": "6a8181c6",
   "metadata": {},
   "outputs": [],
   "source": [
    "lines_of_new_file.append(\"PM10\")\n",
    "lines_of_new_file.append(\" \")"
   ]
  },
  {
   "cell_type": "code",
   "execution_count": 19,
   "id": "f0e42069",
   "metadata": {},
   "outputs": [],
   "source": [
    "#Έλεγχος πληρότητας (και για τα 2)\n",
    "\n",
    "lines_of_new_file.append(f\"Συνολικές ημερήσιες τιμές: {grouped_single.shape[0]}\")\n",
    "\n",
    "checkpm10len =  len(grouped_single['PM10']) - grouped_single['PM10']['count'].le(18).sum()\n",
    "lines_of_new_file.append(f\"Οι έγκυρες ημερήσιες τιμές είναι {checkpm10len}\")\n",
    "\n",
    "if grouped_single['PM10']['mean'].count() > (0.9*grouped_single.shape[0]):\n",
    "    lines_of_new_file.append(\"Ικανοποιείται ο έλεγχος πληρότητας (90% των ημερήσιων τιμών)\")\n",
    "else:\n",
    "    lines_of_new_file.append(\"Δεν ικανοποιείται ο έλεγχος πληρότητας (90% των ημερήσιων τιμών)\")"
   ]
  },
  {
   "cell_type": "code",
   "execution_count": 20,
   "id": "08dc8cb9",
   "metadata": {},
   "outputs": [],
   "source": [
    "# Οριακή τιμή ημέρας = 50μg/m3 έως 35 φορές το έτος\n",
    "\n",
    "if grouped_single['PM10']['mean'].gt(50).sum() > 35:\n",
    "    lines_of_new_file.append(\"Παρατηρείται υπέρβαση του ορίου (50μg/m3 έως 35 φορές το έτος)\")\n",
    "else:\n",
    "    lines_of_new_file.append(\"Δεν παρατηρείται υπέρβαση του ορίου (50μg/m3 έως 35 φορές το έτος)\")\n",
    "    \n",
    "gr_sin_pm10 = grouped_single['PM10']['mean'].gt(50).sum()\n",
    "lines_of_new_file.append(f\"Συνολικές υπερβάσεις που παρατηρήθηκαν: {gr_sin_pm10}\")  "
   ]
  },
  {
   "cell_type": "code",
   "execution_count": 21,
   "id": "48a67c84",
   "metadata": {},
   "outputs": [],
   "source": [
    "# Οριακή τιμή έτους = 40 μg/m3 (με βάση τις ημερήσιες τιμές και όχι τις ωριαίες)\n",
    "\n",
    "gr_sing_mean = round(grouped_single['PM10']['mean'].mean(),1)\n",
    "lines_of_new_file.append(f\"Η οριακή τιμή του έτους είναι {gr_sing_mean}\")\n",
    "\n",
    "if grouped_single['PM10']['mean'].mean() > 40:\n",
    "    lines_of_new_file.append(\"Παρατηρείται παραβίαση του ορίου (40 μg/m3)\")\n",
    "else:\n",
    "    lines_of_new_file.append(\"Δεν παρατηρείται υπέρβαση του ορίου (40 μg/m3)\")"
   ]
  },
  {
   "cell_type": "markdown",
   "id": "c408f565",
   "metadata": {},
   "source": [
    "# PM2.5"
   ]
  },
  {
   "cell_type": "code",
   "execution_count": 22,
   "id": "a4da354d",
   "metadata": {},
   "outputs": [],
   "source": [
    "lines_of_new_file.append(\" \")\n",
    "lines_of_new_file.append('PM2.5')\n",
    "lines_of_new_file.append(\" \")"
   ]
  },
  {
   "cell_type": "code",
   "execution_count": 23,
   "id": "8e85e0d5",
   "metadata": {},
   "outputs": [],
   "source": [
    "# Έλεγχος πληρότητας για το έτος \n",
    "\n",
    "lines_of_new_file.append(f\"Συνολικές τιμές: {grouped_single.shape[0]}\")\n",
    "\n",
    "gr_pm10_pm25 = len(grouped_single['PM10']) - grouped_single['PM2.5']['count'].le(18).sum()\n",
    "lines_of_new_file.append(f\"Οι έγκυρες τιμές είναι {gr_pm10_pm25}\")\n",
    "\n",
    "if len(grouped_single['PM10']) - grouped_single['PM2.5']['count'].le(18).sum() > (0.9*grouped_single.shape[0]):\n",
    "    lines_of_new_file.append(\"Ικανοποιείται ο έλεγχος πληρότητας\")\n",
    "else:\n",
    "    lines_of_new_file.append(\"Δεν ικανοποιείται ο έλεγχος πληρότητας\")"
   ]
  },
  {
   "cell_type": "code",
   "execution_count": 24,
   "id": "b3d0b13e",
   "metadata": {},
   "outputs": [],
   "source": [
    "# Οριακή τιμή έτους = 25 μg/m3 (με βάση τις ημερήσιες τιμές και όχι τις ωριαίες)\n",
    "\n",
    "ch_pm25_mean = round(grouped_single['PM2.5']['mean'].mean(),1)\n",
    "lines_of_new_file.append(f\"Η οριακή τιμή του έτους είναι {ch_pm25_mean}\")\n",
    "\n",
    "if grouped_single['PM2.5']['mean'].mean() > 25:\n",
    "    lines_of_new_file.append(\"Παρατηρείται παραβίαση του ορίου (25 μg/m3)\")\n",
    "else:\n",
    "    lines_of_new_file.append(\"Δεν παρατηρείται υπέρβαση του ορίου 25 μg/m3\")"
   ]
  },
  {
   "cell_type": "markdown",
   "id": "47337ffc",
   "metadata": {},
   "source": [
    "# O3"
   ]
  },
  {
   "cell_type": "code",
   "execution_count": 25,
   "id": "fb392bd5",
   "metadata": {},
   "outputs": [],
   "source": [
    "lines_of_new_file.append(\" \")\n",
    "lines_of_new_file.append('O3')\n",
    "lines_of_new_file.append(\" \")"
   ]
  },
  {
   "cell_type": "code",
   "execution_count": 46,
   "id": "fa172f66",
   "metadata": {
    "scrolled": true
   },
   "outputs": [
    {
     "name": "stdout",
     "output_type": "stream",
     "text": [
      "11\n"
     ]
    }
   ],
   "source": [
    "# Ημερήσιος μέσος όρος 8ώρου/ για να είναι τα δεδομένα πλήρη απαιτούνται 18 8ωροι μέσοι όροι για κάθε μέρα (75%)\n",
    "\n",
    "lines_of_new_file.append(f\"Οι συνολικές τιμές (ημερήσιος μέσος όρος 8ώρου) είναι {grouped_single.shape[0]}\")\n",
    "gr_le_o3roll = len(grouped_single['O3roll']) - grouped_single['O3roll']['count'].le(18).sum()\n",
    "lines_of_new_file.append(f\"Οι έγκυρες τιμές (18 8ωροι μέσοι όροι για κάθε μέρα (75%)) είναι {gr_le_o3roll}\")\n",
    "\n",
    "print(grouped_single['O3roll']['count'].le(18).sum())\n",
    "pd.set_option('display.max_rows', 20)\n",
    "\n",
    "lines_of_new_file.append(\"different results from excel\")"
   ]
  },
  {
   "cell_type": "code",
   "execution_count": 27,
   "id": "aa94cc51",
   "metadata": {},
   "outputs": [],
   "source": [
    "# Τιμή ορίου μέγιστου ημερήσιου 8ωρου: 120μg/m3 έως 25 φορές τον χρόνο σε διάστημα 3 χρόνων\n",
    "\n",
    "gr_o3roll_max = round(grouped_single['O3roll']['max'].max(), 1)\n",
    "lines_of_new_file.append(f\"Η οριακή τιμή του έτους είναι {gr_o3roll_max} μg/m3\")\n",
    "\n",
    "if grouped_single['O3roll']['max'].max() > 120 and grouped_single['O3roll']['count'].gt(18): \n",
    "    lines_of_new_file.append(\"Παρατηρείται παραβίαση του ορίου (120μg/m3 έως 25 φορές τον χρόνο σε διάστημα 3 χρόνων)\")\n",
    "else:\n",
    "    lines_of_new_file.append(\"Δεν παρατηρείται υπέρβαση του ορίου (120μg/m3 έως 25 φορές τον χρόνο σε διάστημα 3 χρόνων)\")\n",
    "    \n",
    "grorollmaxsum = grouped_single['O3roll']['max'].gt(120).sum() \n",
    "lines_of_new_file.append(f\"Συνολικές παραβιάσεις μέγιστου ημερήσιου 8ώρου: {grorollmaxsum}\")"
   ]
  },
  {
   "cell_type": "code",
   "execution_count": 28,
   "id": "760f85a0",
   "metadata": {},
   "outputs": [],
   "source": [
    "# Όριο συναγερμού: 240 μg/m3 για 3 συνεχόμενες ώρες\n",
    "\n",
    "times = 0\n",
    "size = len(data['O3'])\n",
    "  \n",
    "for i in range(size - 2):\n",
    "  \n",
    "    if data['O3'][i] > 240 and data['O3'][i + 1] > 240  and data['O3'][i + 2] > 240:\n",
    "        times += 1\n",
    "        \n",
    "lines_of_new_file.append(f\"Yπερβάσεις του ορίου συναργερμού (240 μg/m3 για 3 συνεχόμενες ώρες) που παρατηρήθηκαν: {times}\")    "
   ]
  },
  {
   "cell_type": "markdown",
   "id": "d1f23ae6",
   "metadata": {},
   "source": [
    "# CO"
   ]
  },
  {
   "cell_type": "markdown",
   "id": "a182e507",
   "metadata": {},
   "source": [
    "the data for this pollutant are not for the station of Pireus but for the station of Patision, Greece"
   ]
  },
  {
   "cell_type": "code",
   "execution_count": 29,
   "id": "bcaeb7f3",
   "metadata": {},
   "outputs": [],
   "source": [
    "lines_of_new_file.append(\" \")\n",
    "lines_of_new_file.append(\"CO\")\n",
    "lines_of_new_file.append(\" \")"
   ]
  },
  {
   "cell_type": "code",
   "execution_count": 43,
   "id": "1be348bd",
   "metadata": {},
   "outputs": [
    {
     "name": "stdout",
     "output_type": "stream",
     "text": [
      "365\n"
     ]
    }
   ],
   "source": [
    "# Ημερήσιος μέσος όρος 8ώρου/ για να είναι τα δεδομένα πλήρη απαιτούνται 18 8ωροι μέσοι όροι για κάθε μέρα (75%)\n",
    "\n",
    "lines_of_new_file.append(f\"Οι συνολικές τιμές είναι {grouped_single.shape[0]}\")\n",
    "gr_coroll = len(grouped_single['COroll']['count']) - grouped_single['COroll']['count'].le(18).sum()\n",
    "lines_of_new_file.append(f\"Οι έγκυρες τιμές είναι {gr_coroll}\")\n",
    "\n",
    "#print(grouped_single['COroll']['count'].le(18).sum())\n",
    "\n",
    "pd.set_option('display.max_rows', 50)\n",
    "#print(grouped_single['COroll']['count'])\n",
    "\n",
    "lines_of_new_file.append(\"different results from excel\")\n",
    "print(gr_coroll)"
   ]
  },
  {
   "cell_type": "code",
   "execution_count": 42,
   "id": "af261e50",
   "metadata": {},
   "outputs": [
    {
     "name": "stdout",
     "output_type": "stream",
     "text": [
      "365\n"
     ]
    }
   ],
   "source": [
    "# Τιμή ορίου μέγιστου ημερήσιου 8ωρου: 10mg/m3 \n",
    "\n",
    "cccc = round(grouped_single['COroll']['max'].max(), 2)\n",
    "lines_of_new_file.append(f\"Η οριακή τιμή του έτους είναι {cccc} mg/m3\")\n",
    "\n",
    "if grouped_single['COroll']['max'].max() > 10 and grouped_single['COroll']['count'].gt(18):\n",
    "    lines_of_new_file.append(\"Παρατηρείται παραβίαση του ορίου (10mg/m3)\")\n",
    "else:\n",
    "    lines_of_new_file.append(\"Δεν παρατηρείται υπέρβαση του ορίου (10mg/m3)\")\n",
    "    \n",
    "gr_croll_maxx = grouped_single['COroll']['max'].gt(10).sum()\n",
    "lines_of_new_file.append(f\"Συνολικές παραβιάσεις μέγιστου ημερήσιου 8ωρου: {gr_croll_maxx}\")"
   ]
  },
  {
   "cell_type": "code",
   "execution_count": 32,
   "id": "a3d44ec5",
   "metadata": {},
   "outputs": [],
   "source": [
    "nm = f'{namee}_Output.csv'\n",
    "with open(f'{namee}_Output.txt', 'w',encoding=\"UTF-8\") as f:\n",
    "    for line in lines_of_new_file:\n",
    "        #l = str(line.encode(\"utf-8\"))\n",
    "        f.write(line)\n",
    "        f.write('\\n')\n",
    "#df = pd.read_csv(nm)\n",
    "#df.to_excel(f'{namee}_Output.xlsx', 'Sheet1')\n",
    "#os.remove(nm)"
   ]
  },
  {
   "cell_type": "code",
   "execution_count": null,
   "id": "dd3bdd47",
   "metadata": {},
   "outputs": [],
   "source": []
  }
 ],
 "metadata": {
  "kernelspec": {
   "display_name": "Python 3",
   "language": "python",
   "name": "python3"
  },
  "language_info": {
   "codemirror_mode": {
    "name": "ipython",
    "version": 3
   },
   "file_extension": ".py",
   "mimetype": "text/x-python",
   "name": "python",
   "nbconvert_exporter": "python",
   "pygments_lexer": "ipython3",
   "version": "3.8.8"
  }
 },
 "nbformat": 4,
 "nbformat_minor": 5
}
