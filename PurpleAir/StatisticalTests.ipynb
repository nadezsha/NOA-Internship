{
 "cells": [
  {
   "cell_type": "code",
   "execution_count": 30,
   "id": "0a1fafa7",
   "metadata": {},
   "outputs": [
    {
     "name": "stdout",
     "output_type": "stream",
     "text": [
      "                         date      GRIMM  PANACEA_048  PANACEA_049\n",
      "0   2022-07-09 00:00:00+00:00  23.675000       32.890       32.995\n",
      "1   2022-07-09 01:00:00+00:00  21.286667       27.180       26.800\n",
      "2   2022-07-09 02:00:00+00:00   7.998333        8.795        8.725\n",
      "3   2022-07-09 03:00:00+00:00   5.935000        5.835        5.705\n",
      "4   2022-07-09 04:00:00+00:00   8.260000        8.050        7.815\n",
      "..                        ...        ...          ...          ...\n",
      "377 2022-07-24 17:00:00+00:00  21.038333       21.915       21.845\n",
      "378 2022-07-24 18:00:00+00:00  23.423333       26.655       26.755\n",
      "379 2022-07-24 19:00:00+00:00  24.426667       29.085       29.500\n",
      "380 2022-07-24 20:00:00+00:00  25.720000       31.450       32.185\n",
      "381 2022-07-24 21:00:00+00:00  26.430000       32.015       33.060\n",
      "\n",
      "[382 rows x 4 columns]\n"
     ]
    }
   ],
   "source": [
    "import pandas as pd\n",
    "import numpy as np\n",
    "import datetime\n",
    "from scipy.stats import wilcoxon\n",
    "from scipy.stats import mannwhitneyu\n",
    "\n",
    "data = pd.read_csv(r'C:/Users/nadia/OneDrive/Desktop/normalitytest.csv',  parse_dates=[\"date\"])\n",
    "print(data)"
   ]
  },
  {
   "cell_type": "markdown",
   "id": "f25211e5",
   "metadata": {},
   "source": [
    "# WILCOXON RANK TEST\n",
    "\n",
    "- The Wilcoxon signed-rank test tests the null hypothesis that two related paired samples come from the same distribution. In particular, it tests whether the distribution of the differences x - y is symmetric about zero. It is a non-parametric version of the paired T-test.\n",
    "\n",
    "- A p-value is the probability that the null hypothesis – that both populations are the same – is true. In other words, a lower p-value reflects a value that is more significantly different across populations. Biomarkers with significant differences between sample populations have p-values ≤ 0.05\n",
    "\n",
    "- If the p-value is lower the significance level (usually 0.05) then we can say that we have statistically significant evidences to reject the null hypothesis, and thus to accept that the data are different in your case.\n",
    "\n",
    "- On the other hand, if the p-value is above 0.05, we can not say that H0 is true, that is, we can not say that the data are equal. We can just say that we have not enough evidences to reject H0."
   ]
  },
  {
   "cell_type": "code",
   "execution_count": 31,
   "id": "a8bc2253",
   "metadata": {},
   "outputs": [
    {
     "name": "stdout",
     "output_type": "stream",
     "text": [
      "Pvalue: 0.00041598637188225754\n",
      "Rejecting the null hypothesis that the GRIMM & PANACEA_048 data are the same -> distribution not normal\n"
     ]
    }
   ],
   "source": [
    "# GRIMM & PANACEA_048\n",
    "\n",
    "wil1 = wilcoxon(data['PANACEA_048'], data['GRIMM'])\n",
    "\n",
    "print(\"Pvalue:\", wil1.pvalue)\n",
    "\n",
    "if wil1.pvalue < 0.05:\n",
    "    print('Rejecting the null hypothesis that the GRIMM & PANACEA_048 data are the same -> distribution not normal')\n",
    "else:\n",
    "    print('Not enough evidence to reject null hypothesis for the GRIMM & PANACEA_048 data -> distribution probably normal')"
   ]
  },
  {
   "cell_type": "code",
   "execution_count": 32,
   "id": "114da59a",
   "metadata": {},
   "outputs": [
    {
     "name": "stdout",
     "output_type": "stream",
     "text": [
      "Pvalue: 0.06856997729854884\n",
      "Not enough evidence to reject null hypothesis for the GRIMM & PANACEA_049 data -> distribution probably normal\n"
     ]
    }
   ],
   "source": [
    "# GRIMM & PANACEA_049\n",
    "\n",
    "wil2 = wilcoxon(data['PANACEA_049'], data['GRIMM'])\n",
    "\n",
    "print(\"Pvalue:\", wil2.pvalue)\n",
    "\n",
    "if wil2.pvalue < 0.05:\n",
    "    print('Rejecting the null hypothesis that the GRIMM & PANACEA_049 data are the same -> distribution not normal')\n",
    "else:\n",
    "    print('Not enough evidence to reject null hypothesis for the GRIMM & PANACEA_049 data -> distribution probably normal')"
   ]
  },
  {
   "cell_type": "markdown",
   "id": "b6e45203",
   "metadata": {},
   "source": [
    "# MANN - WHITNEY TEST\n",
    "\n",
    "- The Mann-Whitney U test is a nonparametric test of the null hypothesis that the distribution underlying sample x is the same as the distribution underlying sample y. It is often used as a test of difference in location between distributions."
   ]
  },
  {
   "cell_type": "code",
   "execution_count": 33,
   "id": "c13f7c8e",
   "metadata": {},
   "outputs": [
    {
     "name": "stdout",
     "output_type": "stream",
     "text": [
      "Pvalue: 0.2965815284613928\n",
      "Not enough evidence to reject null hypothesis for the GRIMM & PANACEA_048 data -> distribution probably normal\n"
     ]
    }
   ],
   "source": [
    "# GRIMM & PANACEA_048\n",
    "\n",
    "mann1 = mannwhitneyu(data['PANACEA_048'], data['GRIMM'])\n",
    "\n",
    "print(\"Pvalue:\", mann1.pvalue)\n",
    "\n",
    "if mann1.pvalue < 0.05:\n",
    "    print('Rejecting the null hypothesis that the GRIMM & PANACEA_048 data are the same -> distribution not normal')\n",
    "else:\n",
    "    print('Not enough evidence to reject null hypothesis for the GRIMM & PANACEA_048 data -> distribution probably normal')"
   ]
  },
  {
   "cell_type": "code",
   "execution_count": 34,
   "id": "0f09646d",
   "metadata": {},
   "outputs": [
    {
     "name": "stdout",
     "output_type": "stream",
     "text": [
      "Pvalue: 0.4470517374503815\n",
      "Not enough evidence to reject null hypothesis for the GRIMM & PANACEA_049 data -> distribution probably normal\n"
     ]
    }
   ],
   "source": [
    "# GRIMM & PANACEA_049\n",
    "\n",
    "mann2 = mannwhitneyu(data['PANACEA_049'], data['GRIMM'])\n",
    "\n",
    "print(\"Pvalue:\", mann2.pvalue)\n",
    "\n",
    "if mann2.pvalue < 0.05:\n",
    "    print('Rejecting the null hypothesis that the GRIMM & PANACEA_049 data are the same -> distribution not normal')\n",
    "else:\n",
    "    print('Not enough evidence to reject null hypothesis for the GRIMM & PANACEA_049 data -> distribution probably normal')"
   ]
  },
  {
   "cell_type": "code",
   "execution_count": null,
   "id": "2da78f8e",
   "metadata": {},
   "outputs": [],
   "source": []
  }
 ],
 "metadata": {
  "kernelspec": {
   "display_name": "Python 3",
   "language": "python",
   "name": "python3"
  },
  "language_info": {
   "codemirror_mode": {
    "name": "ipython",
    "version": 3
   },
   "file_extension": ".py",
   "mimetype": "text/x-python",
   "name": "python",
   "nbconvert_exporter": "python",
   "pygments_lexer": "ipython3",
   "version": "3.8.8"
  }
 },
 "nbformat": 4,
 "nbformat_minor": 5
}
